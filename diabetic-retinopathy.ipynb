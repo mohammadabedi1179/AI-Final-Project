{
 "cells": [
  {
   "cell_type": "markdown",
   "id": "d0acc201",
   "metadata": {
    "papermill": {
     "duration": 0.006468,
     "end_time": "2022-07-11T22:52:29.965223",
     "exception": false,
     "start_time": "2022-07-11T22:52:29.958755",
     "status": "completed"
    },
    "tags": []
   },
   "source": [
    "# 1.Import Dependencies"
   ]
  },
  {
   "cell_type": "code",
   "execution_count": 1,
   "id": "087f9d72",
   "metadata": {
    "execution": {
     "iopub.execute_input": "2022-07-11T22:52:29.978624Z",
     "iopub.status.busy": "2022-07-11T22:52:29.977820Z",
     "iopub.status.idle": "2022-07-11T22:52:36.167123Z",
     "shell.execute_reply": "2022-07-11T22:52:36.166000Z"
    },
    "papermill": {
     "duration": 6.199219,
     "end_time": "2022-07-11T22:52:36.170069",
     "exception": false,
     "start_time": "2022-07-11T22:52:29.970850",
     "status": "completed"
    },
    "tags": []
   },
   "outputs": [],
   "source": [
    "import pandas as pd\n",
    "import tensorflow as tf\n",
    "from matplotlib import pyplot as plt\n",
    "from tensorflow.keras.applications.inception_v3 import InceptionV3\n",
    "from tensorflow.keras.applications.resnet50 import ResNet50\n",
    "from tensorflow.keras.applications.vgg19 import VGG19\n",
    "from tensorflow.keras.applications.densenet import DenseNet201\n",
    "from tensorflow.keras.optimizers import Adam\n",
    "from tensorflow.keras.layers import Concatenate, Conv2D, ReLU, Dropout, MaxPool2D, BatchNormalization\n",
    "import tensorflow.keras.layers as tfl\n",
    "from tensorflow.keras.utils import image_dataset_from_directory\n",
    "import os\n",
    "import numpy as np\n",
    "import tensorflow_addons as tfa\n",
    "from tensorflow import keras\n",
    "import sklearn\n",
    "from sklearn.metrics import classification_report\n",
    "import tensorflow.keras.backend as kb\n",
    "import seaborn as sns"
   ]
  },
  {
   "cell_type": "markdown",
   "id": "1b0c2185",
   "metadata": {
    "papermill": {
     "duration": 0.005364,
     "end_time": "2022-07-11T22:52:36.181246",
     "exception": false,
     "start_time": "2022-07-11T22:52:36.175882",
     "status": "completed"
    },
    "tags": []
   },
   "source": [
    "# 2.Load Dataset"
   ]
  },
  {
   "cell_type": "code",
   "execution_count": 2,
   "id": "acf0a94a",
   "metadata": {
    "execution": {
     "iopub.execute_input": "2022-07-11T22:52:36.193857Z",
     "iopub.status.busy": "2022-07-11T22:52:36.193353Z",
     "iopub.status.idle": "2022-07-11T22:52:36.198594Z",
     "shell.execute_reply": "2022-07-11T22:52:36.197594Z"
    },
    "papermill": {
     "duration": 0.013631,
     "end_time": "2022-07-11T22:52:36.200495",
     "exception": false,
     "start_time": "2022-07-11T22:52:36.186864",
     "status": "completed"
    },
    "tags": []
   },
   "outputs": [],
   "source": [
    "def process(image,label):\n",
    "    image = tf.cast(image/255. ,tf.float32)\n",
    "    return image,label"
   ]
  },
  {
   "cell_type": "code",
   "execution_count": 3,
   "id": "f90f57f5",
   "metadata": {
    "execution": {
     "iopub.execute_input": "2022-07-11T22:52:36.212546Z",
     "iopub.status.busy": "2022-07-11T22:52:36.211925Z",
     "iopub.status.idle": "2022-07-11T22:52:45.637415Z",
     "shell.execute_reply": "2022-07-11T22:52:45.636473Z"
    },
    "papermill": {
     "duration": 9.433685,
     "end_time": "2022-07-11T22:52:45.639492",
     "exception": false,
     "start_time": "2022-07-11T22:52:36.205807",
     "status": "completed"
    },
    "tags": []
   },
   "outputs": [
    {
     "name": "stdout",
     "output_type": "stream",
     "text": [
      "Found 20077 files belonging to 11 classes.\n"
     ]
    },
    {
     "name": "stderr",
     "output_type": "stream",
     "text": [
      "2022-07-11 22:52:42.546029: I tensorflow/stream_executor/cuda/cuda_gpu_executor.cc:937] successful NUMA node read from SysFS had negative value (-1), but there must be at least one NUMA node, so returning NUMA node zero\n",
      "2022-07-11 22:52:42.654073: I tensorflow/stream_executor/cuda/cuda_gpu_executor.cc:937] successful NUMA node read from SysFS had negative value (-1), but there must be at least one NUMA node, so returning NUMA node zero\n",
      "2022-07-11 22:52:42.654848: I tensorflow/stream_executor/cuda/cuda_gpu_executor.cc:937] successful NUMA node read from SysFS had negative value (-1), but there must be at least one NUMA node, so returning NUMA node zero\n",
      "2022-07-11 22:52:42.663862: I tensorflow/core/platform/cpu_feature_guard.cc:142] This TensorFlow binary is optimized with oneAPI Deep Neural Network Library (oneDNN) to use the following CPU instructions in performance-critical operations:  AVX2 AVX512F FMA\n",
      "To enable them in other operations, rebuild TensorFlow with the appropriate compiler flags.\n",
      "2022-07-11 22:52:42.664399: I tensorflow/stream_executor/cuda/cuda_gpu_executor.cc:937] successful NUMA node read from SysFS had negative value (-1), but there must be at least one NUMA node, so returning NUMA node zero\n",
      "2022-07-11 22:52:42.666043: I tensorflow/stream_executor/cuda/cuda_gpu_executor.cc:937] successful NUMA node read from SysFS had negative value (-1), but there must be at least one NUMA node, so returning NUMA node zero\n",
      "2022-07-11 22:52:42.667125: I tensorflow/stream_executor/cuda/cuda_gpu_executor.cc:937] successful NUMA node read from SysFS had negative value (-1), but there must be at least one NUMA node, so returning NUMA node zero\n",
      "2022-07-11 22:52:44.955894: I tensorflow/stream_executor/cuda/cuda_gpu_executor.cc:937] successful NUMA node read from SysFS had negative value (-1), but there must be at least one NUMA node, so returning NUMA node zero\n",
      "2022-07-11 22:52:44.956831: I tensorflow/stream_executor/cuda/cuda_gpu_executor.cc:937] successful NUMA node read from SysFS had negative value (-1), but there must be at least one NUMA node, so returning NUMA node zero\n",
      "2022-07-11 22:52:44.957597: I tensorflow/stream_executor/cuda/cuda_gpu_executor.cc:937] successful NUMA node read from SysFS had negative value (-1), but there must be at least one NUMA node, so returning NUMA node zero\n",
      "2022-07-11 22:52:44.958184: I tensorflow/core/common_runtime/gpu/gpu_device.cc:1510] Created device /job:localhost/replica:0/task:0/device:GPU:0 with 15403 MB memory:  -> device: 0, name: Tesla P100-PCIE-16GB, pci bus id: 0000:00:04.0, compute capability: 6.0\n"
     ]
    },
    {
     "name": "stdout",
     "output_type": "stream",
     "text": [
      "Found 1236 files belonging to 11 classes.\n",
      "Found 433 files belonging to 11 classes.\n"
     ]
    }
   ],
   "source": [
    "BATCH_SIZE = 8\n",
    "IMG_SIZE = (224, 224)\n",
    "train_directory = \"../input/retinal-fundus-images/Retinal Fundus Images/train\"\n",
    "test_directory = \"../input/retinal-fundus-images/Retinal Fundus Images/test\"\n",
    "val_directory = \"../input/retinal-fundus-images/Retinal Fundus Images/val\"\n",
    "train_dataset = image_dataset_from_directory(train_directory,\n",
    "                                             shuffle=True,\n",
    "                                             batch_size=BATCH_SIZE,\n",
    "                                             image_size=IMG_SIZE,\n",
    "                                             label_mode='categorical',\n",
    "                                             seed=42)\n",
    "train_dataset = train_dataset.map(process)\n",
    "\n",
    "validation_dataset = image_dataset_from_directory(test_directory,\n",
    "                                             shuffle=True,\n",
    "                                             batch_size=BATCH_SIZE,\n",
    "                                             image_size=IMG_SIZE,\n",
    "                                             label_mode='categorical',\n",
    "                                             seed=42)\n",
    "validation_dataset = validation_dataset.map(process)\n",
    "\n",
    "test_dataset = image_dataset_from_directory(val_directory,\n",
    "                                             shuffle=True,\n",
    "                                             batch_size=BATCH_SIZE,\n",
    "                                             image_size=IMG_SIZE,\n",
    "                                             label_mode='categorical',\n",
    "                                             seed=42)\n",
    "test_dataset = test_dataset.map(process)"
   ]
  },
  {
   "cell_type": "markdown",
   "id": "2132c39d",
   "metadata": {
    "papermill": {
     "duration": 0.005484,
     "end_time": "2022-07-11T22:52:45.651030",
     "exception": false,
     "start_time": "2022-07-11T22:52:45.645546",
     "status": "completed"
    },
    "tags": []
   },
   "source": [
    "# 3.Training!"
   ]
  },
  {
   "cell_type": "code",
   "execution_count": 4,
   "id": "9e9d7091",
   "metadata": {
    "execution": {
     "iopub.execute_input": "2022-07-11T22:52:45.663908Z",
     "iopub.status.busy": "2022-07-11T22:52:45.663289Z",
     "iopub.status.idle": "2022-07-11T22:52:45.671072Z",
     "shell.execute_reply": "2022-07-11T22:52:45.670074Z"
    },
    "papermill": {
     "duration": 0.016414,
     "end_time": "2022-07-11T22:52:45.673028",
     "exception": false,
     "start_time": "2022-07-11T22:52:45.656614",
     "status": "completed"
    },
    "tags": []
   },
   "outputs": [],
   "source": [
    "def block_a(inputs):\n",
    "    \n",
    "  x1 = Conv2D(128, (1, 1), padding='same')(inputs)\n",
    "  x1 = Conv2D(128, (3, 3), padding='same')(x1)\n",
    "  x1 = BatchNormalization(axis=-1)(x1)\n",
    "\n",
    "  x2 = Conv2D(64, (1, 1), padding='same')(inputs)\n",
    "  x2 = Conv2D(64, (5, 5), padding='same')(x2)\n",
    "  x2 = BatchNormalization(axis=-1)(x2)\n",
    "    \n",
    "  x3 = Conv2D(128, (1, 1), padding='same')(inputs)\n",
    "  x3 = Conv2D(32, (7, 7), padding='same')(x3)\n",
    "  x3 = BatchNormalization(axis=-1)(x3)\n",
    "\n",
    "  x4 = MaxPool2D(strides=1, padding='same')(inputs)\n",
    "    \n",
    "  x = Concatenate()([x1, x2, x3, x4])\n",
    "\n",
    "  return x"
   ]
  },
  {
   "cell_type": "code",
   "execution_count": 5,
   "id": "62f730a9",
   "metadata": {
    "execution": {
     "iopub.execute_input": "2022-07-11T22:52:45.686019Z",
     "iopub.status.busy": "2022-07-11T22:52:45.685210Z",
     "iopub.status.idle": "2022-07-11T22:52:45.693402Z",
     "shell.execute_reply": "2022-07-11T22:52:45.692584Z"
    },
    "papermill": {
     "duration": 0.016618,
     "end_time": "2022-07-11T22:52:45.695351",
     "exception": false,
     "start_time": "2022-07-11T22:52:45.678733",
     "status": "completed"
    },
    "tags": []
   },
   "outputs": [],
   "source": [
    "def block_b(inputs):\n",
    "  \n",
    "  x1 = Conv2D(64, (1, 1), padding='same')(inputs)\n",
    "  x1 = Conv2D(64, (3, 3), padding='same')(x1)\n",
    "  x1 = BatchNormalization(axis=-1)(x1)\n",
    "    \n",
    "  x2 = Conv2D(16, (1, 1), padding='same')(inputs)\n",
    "  x2 = Conv2D(16, (5, 5), padding='same')(x2)\n",
    "  x2 = BatchNormalization(axis=-1)(x2)\n",
    "\n",
    "  x3 = Conv2D(8, (1, 1), padding='same')(inputs)\n",
    "  x3 = Conv2D(8, (7, 7), padding='same')(x3)\n",
    "  x3 = BatchNormalization(axis=-1)(x3)\n",
    "    \n",
    "  x = Concatenate()([x1, x2, x3])\n",
    "\n",
    "  x = MaxPool2D(padding='valid')(x)\n",
    "  x = Dropout(0.2)(x)\n",
    "\n",
    "  return x"
   ]
  },
  {
   "cell_type": "code",
   "execution_count": 6,
   "id": "28aa2aec",
   "metadata": {
    "execution": {
     "iopub.execute_input": "2022-07-11T22:52:45.707926Z",
     "iopub.status.busy": "2022-07-11T22:52:45.707683Z",
     "iopub.status.idle": "2022-07-11T22:52:45.716113Z",
     "shell.execute_reply": "2022-07-11T22:52:45.715311Z"
    },
    "papermill": {
     "duration": 0.01733,
     "end_time": "2022-07-11T22:52:45.718278",
     "exception": false,
     "start_time": "2022-07-11T22:52:45.700948",
     "status": "completed"
    },
    "tags": []
   },
   "outputs": [],
   "source": [
    "def block_c(inputs):\n",
    "    \n",
    "  x1 = Conv2D(128, (1, 1), padding='same')(inputs)\n",
    "  x1 = BatchNormalization(axis=-1)(x1)\n",
    "    \n",
    "  x2 = Conv2D(128, (1, 1), padding='same')(inputs)\n",
    "  x2 = Conv2D(64, (3, 3), padding='same')(x2)\n",
    "  x2 = BatchNormalization(axis=-1)(x2)\n",
    "\n",
    "  x3 = Conv2D(128, (1, 1), padding='same')(inputs)\n",
    "  x3 = Conv2D(32, (5, 5), padding='same')(x3)\n",
    "  x3 = BatchNormalization(axis=-1)(x3)\n",
    "    \n",
    "  x4 = MaxPool2D(strides=1, padding='same')(inputs)\n",
    "\n",
    "  x = Concatenate()([x1, x2, x3, x4])\n",
    "  \n",
    "  return x"
   ]
  },
  {
   "cell_type": "code",
   "execution_count": 7,
   "id": "f648ea51",
   "metadata": {
    "execution": {
     "iopub.execute_input": "2022-07-11T22:52:45.731233Z",
     "iopub.status.busy": "2022-07-11T22:52:45.730454Z",
     "iopub.status.idle": "2022-07-11T22:52:45.738465Z",
     "shell.execute_reply": "2022-07-11T22:52:45.737195Z"
    },
    "papermill": {
     "duration": 0.016851,
     "end_time": "2022-07-11T22:52:45.740658",
     "exception": false,
     "start_time": "2022-07-11T22:52:45.723807",
     "status": "completed"
    },
    "tags": []
   },
   "outputs": [],
   "source": [
    "def block_d(inputs):\n",
    "  \n",
    "  x1 = Conv2D(64, (1, 1), padding='same')(inputs)\n",
    "  x1 = BatchNormalization(axis=-1)(x1)\n",
    "\n",
    "  x2 = Conv2D(32, (1, 1), padding='same')(inputs)\n",
    "  x2 = Conv2D(32, (3, 3), padding='same')(x2)\n",
    "  x1 = BatchNormalization(axis=-1)(x1)\n",
    "    \n",
    "  x3 = Conv2D(16, (1, 1), padding='same')(inputs)\n",
    "  x3 = Conv2D(16, (5, 5), padding='same')(x3)\n",
    "  x1 = BatchNormalization(axis=-1)(x1)\n",
    "\n",
    "  x = Concatenate()([x1, x2, x3])\n",
    "    \n",
    "  x = MaxPool2D(padding='valid')(x)\n",
    "  x = Dropout(0.2)(x)\n",
    "  \n",
    "  return x"
   ]
  },
  {
   "cell_type": "code",
   "execution_count": 8,
   "id": "c8d8abda",
   "metadata": {
    "execution": {
     "iopub.execute_input": "2022-07-11T22:52:45.753178Z",
     "iopub.status.busy": "2022-07-11T22:52:45.752904Z",
     "iopub.status.idle": "2022-07-11T22:52:45.763563Z",
     "shell.execute_reply": "2022-07-11T22:52:45.762588Z"
    },
    "papermill": {
     "duration": 0.019362,
     "end_time": "2022-07-11T22:52:45.765794",
     "exception": false,
     "start_time": "2022-07-11T22:52:45.746432",
     "status": "completed"
    },
    "tags": []
   },
   "outputs": [],
   "source": [
    "def classification(pre_trained_model_name : str = None, input_shape: tuple =(224, 224, 3), scratch = False):\n",
    "  \n",
    "  if pre_trained_model_name == 'inception':\n",
    "    pre_trained_model = InceptionV3(input_shape=input_shape, include_top=False, weights='imagenet')\n",
    "  \n",
    "  elif pre_trained_model_name == 'resnet':\n",
    "    pre_trained_model = ResNet50(input_shape=input_shape, include_top=False, weights='imagenet')\n",
    "  \n",
    "  elif pre_trained_model_name == 'vgg':\n",
    "    pre_trained_model = VGG19(input_shape=input_shape, include_top=False, weights='imagenet')\n",
    "  \n",
    "  elif pre_trained_model_name == \"densenet\":\n",
    "    pre_trained_model = DenseNet201(input_shape=input_shape, include_top=False, weights='imagenet')\n",
    "    \n",
    "  if scratch == False and pre_trained_model_name != None:\n",
    "     for layer in pre_trained_model.layers:\n",
    "        layer.trainable = False\n",
    "  \n",
    "  inputs = tf.keras.Input(shape=input_shape, name='Input')\n",
    "\n",
    "  if pre_trained_model_name != None:\n",
    "      x = pre_trained_model(inputs)\n",
    "      x = block_c(x)\n",
    "      x = block_d(x)\n",
    "  else:\n",
    "    x = block_a(inputs)\n",
    "    x = block_b(x)\n",
    "    x = block_a(x)\n",
    "    x = block_b(x)\n",
    "    x = block_b(x)\n",
    "    x = block_c(x)\n",
    "    x = block_d(x)\n",
    "    x = block_c(x)\n",
    "    x = block_d(x)\n",
    "    x = block_d(x)\n",
    "    \n",
    "  x = tfl.Flatten(name='Flatten')(x)\n",
    "  x = tfl.Dense(11, activation='softmax', name='Output')(x)\n",
    "  model = tf.keras.Model(inputs=inputs, outputs=x, name=f'Transfer_Learning_by_{pre_trained_model_name}')\n",
    "  \n",
    "  return model"
   ]
  },
  {
   "cell_type": "code",
   "execution_count": 9,
   "id": "e05876b3",
   "metadata": {
    "execution": {
     "iopub.execute_input": "2022-07-11T22:52:45.778586Z",
     "iopub.status.busy": "2022-07-11T22:52:45.778171Z",
     "iopub.status.idle": "2022-07-11T22:52:46.773701Z",
     "shell.execute_reply": "2022-07-11T22:52:46.771788Z"
    },
    "papermill": {
     "duration": 1.004266,
     "end_time": "2022-07-11T22:52:46.775862",
     "exception": false,
     "start_time": "2022-07-11T22:52:45.771596",
     "status": "completed"
    },
    "tags": []
   },
   "outputs": [
    {
     "name": "stdout",
     "output_type": "stream",
     "text": [
      "Downloading data from https://storage.googleapis.com/tensorflow/keras-applications/vgg19/vgg19_weights_tf_dim_ordering_tf_kernels_notop.h5\n",
      "80142336/80134624 [==============================] - 0s 0us/step\n",
      "80150528/80134624 [==============================] - 0s 0us/step\n",
      "Model: \"Transfer_Learning_by_vgg\"\n",
      "__________________________________________________________________________________________________\n",
      "Layer (type)                    Output Shape         Param #     Connected to                     \n",
      "==================================================================================================\n",
      "Input (InputLayer)              [(None, 224, 224, 3) 0                                            \n",
      "__________________________________________________________________________________________________\n",
      "vgg19 (Functional)              (None, 7, 7, 512)    20024384    Input[0][0]                      \n",
      "__________________________________________________________________________________________________\n",
      "conv2d_1 (Conv2D)               (None, 7, 7, 128)    65664       vgg19[0][0]                      \n",
      "__________________________________________________________________________________________________\n",
      "conv2d_3 (Conv2D)               (None, 7, 7, 128)    65664       vgg19[0][0]                      \n",
      "__________________________________________________________________________________________________\n",
      "conv2d (Conv2D)                 (None, 7, 7, 128)    65664       vgg19[0][0]                      \n",
      "__________________________________________________________________________________________________\n",
      "conv2d_2 (Conv2D)               (None, 7, 7, 64)     73792       conv2d_1[0][0]                   \n",
      "__________________________________________________________________________________________________\n",
      "conv2d_4 (Conv2D)               (None, 7, 7, 32)     102432      conv2d_3[0][0]                   \n",
      "__________________________________________________________________________________________________\n",
      "batch_normalization (BatchNorma (None, 7, 7, 128)    512         conv2d[0][0]                     \n",
      "__________________________________________________________________________________________________\n",
      "batch_normalization_1 (BatchNor (None, 7, 7, 64)     256         conv2d_2[0][0]                   \n",
      "__________________________________________________________________________________________________\n",
      "batch_normalization_2 (BatchNor (None, 7, 7, 32)     128         conv2d_4[0][0]                   \n",
      "__________________________________________________________________________________________________\n",
      "max_pooling2d (MaxPooling2D)    (None, 7, 7, 512)    0           vgg19[0][0]                      \n",
      "__________________________________________________________________________________________________\n",
      "concatenate (Concatenate)       (None, 7, 7, 736)    0           batch_normalization[0][0]        \n",
      "                                                                 batch_normalization_1[0][0]      \n",
      "                                                                 batch_normalization_2[0][0]      \n",
      "                                                                 max_pooling2d[0][0]              \n",
      "__________________________________________________________________________________________________\n",
      "conv2d_5 (Conv2D)               (None, 7, 7, 64)     47168       concatenate[0][0]                \n",
      "__________________________________________________________________________________________________\n",
      "batch_normalization_3 (BatchNor (None, 7, 7, 64)     256         conv2d_5[0][0]                   \n",
      "__________________________________________________________________________________________________\n",
      "batch_normalization_4 (BatchNor (None, 7, 7, 64)     256         batch_normalization_3[0][0]      \n",
      "__________________________________________________________________________________________________\n",
      "conv2d_6 (Conv2D)               (None, 7, 7, 32)     23584       concatenate[0][0]                \n",
      "__________________________________________________________________________________________________\n",
      "conv2d_8 (Conv2D)               (None, 7, 7, 16)     11792       concatenate[0][0]                \n",
      "__________________________________________________________________________________________________\n",
      "batch_normalization_5 (BatchNor (None, 7, 7, 64)     256         batch_normalization_4[0][0]      \n",
      "__________________________________________________________________________________________________\n",
      "conv2d_7 (Conv2D)               (None, 7, 7, 32)     9248        conv2d_6[0][0]                   \n",
      "__________________________________________________________________________________________________\n",
      "conv2d_9 (Conv2D)               (None, 7, 7, 16)     6416        conv2d_8[0][0]                   \n",
      "__________________________________________________________________________________________________\n",
      "concatenate_1 (Concatenate)     (None, 7, 7, 112)    0           batch_normalization_5[0][0]      \n",
      "                                                                 conv2d_7[0][0]                   \n",
      "                                                                 conv2d_9[0][0]                   \n",
      "__________________________________________________________________________________________________\n",
      "max_pooling2d_1 (MaxPooling2D)  (None, 3, 3, 112)    0           concatenate_1[0][0]              \n",
      "__________________________________________________________________________________________________\n",
      "dropout (Dropout)               (None, 3, 3, 112)    0           max_pooling2d_1[0][0]            \n",
      "__________________________________________________________________________________________________\n",
      "Flatten (Flatten)               (None, 1008)         0           dropout[0][0]                    \n",
      "__________________________________________________________________________________________________\n",
      "Output (Dense)                  (None, 11)           11099       Flatten[0][0]                    \n",
      "==================================================================================================\n",
      "Total params: 20,508,571\n",
      "Trainable params: 483,355\n",
      "Non-trainable params: 20,025,216\n",
      "__________________________________________________________________________________________________\n"
     ]
    }
   ],
   "source": [
    "model = classification(pre_trained_model_name='vgg')\n",
    "model.summary()"
   ]
  },
  {
   "cell_type": "code",
   "execution_count": 10,
   "id": "144aad6a",
   "metadata": {
    "execution": {
     "iopub.execute_input": "2022-07-11T22:52:46.791321Z",
     "iopub.status.busy": "2022-07-11T22:52:46.789771Z",
     "iopub.status.idle": "2022-07-11T22:52:46.814710Z",
     "shell.execute_reply": "2022-07-11T22:52:46.813765Z"
    },
    "papermill": {
     "duration": 0.035026,
     "end_time": "2022-07-11T22:52:46.817509",
     "exception": false,
     "start_time": "2022-07-11T22:52:46.782483",
     "status": "completed"
    },
    "tags": []
   },
   "outputs": [
    {
     "name": "stderr",
     "output_type": "stream",
     "text": [
      "/opt/conda/lib/python3.7/site-packages/keras/optimizer_v2/optimizer_v2.py:356: UserWarning: The `lr` argument is deprecated, use `learning_rate` instead.\n",
      "  \"The `lr` argument is deprecated, use `learning_rate` instead.\")\n"
     ]
    }
   ],
   "source": [
    "base_learning_rate = 0.01\n",
    "checkpoint_filepath = '/kaggle/working/tmp/models/vgg_c_d_11D'\n",
    "model_checkpoint_callback = tf.keras.callbacks.ModelCheckpoint(filepath=checkpoint_filepath, save_weights_only=False, monitor='val_F1 Score')\n",
    "model.compile(optimizer=tf.keras.optimizers.Adam(lr=base_learning_rate),\n",
    "              loss=tf.keras.losses.CategoricalCrossentropy(),\n",
    "              metrics=['accuracy',\n",
    "                       tf.keras.metrics.Precision(),\n",
    "                       tf.keras.metrics.Recall(),\n",
    "                       tfa.metrics.F1Score(11, average='macro', threshold=0.5, name='F1 Score')])"
   ]
  },
  {
   "cell_type": "code",
   "execution_count": 11,
   "id": "a42b3e6f",
   "metadata": {
    "execution": {
     "iopub.execute_input": "2022-07-11T22:52:46.833520Z",
     "iopub.status.busy": "2022-07-11T22:52:46.831988Z",
     "iopub.status.idle": "2022-07-11T23:23:33.788871Z",
     "shell.execute_reply": "2022-07-11T23:23:33.787826Z"
    },
    "papermill": {
     "duration": 1846.967122,
     "end_time": "2022-07-11T23:23:33.791754",
     "exception": false,
     "start_time": "2022-07-11T22:52:46.824632",
     "status": "completed"
    },
    "tags": []
   },
   "outputs": [
    {
     "name": "stdout",
     "output_type": "stream",
     "text": [
      "Epoch 1/15\n"
     ]
    },
    {
     "name": "stderr",
     "output_type": "stream",
     "text": [
      "2022-07-11 22:52:46.870323: I tensorflow/compiler/mlir/mlir_graph_optimization_pass.cc:185] None of the MLIR Optimization Passes are enabled (registered 2)\n",
      "2022-07-11 22:52:50.144189: I tensorflow/stream_executor/cuda/cuda_dnn.cc:369] Loaded cuDNN version 8005\n"
     ]
    },
    {
     "name": "stdout",
     "output_type": "stream",
     "text": [
      "2510/2510 [==============================] - 146s 54ms/step - loss: 12.9395 - accuracy: 0.5393 - precision: 0.5416 - recall: 0.5379 - F1 Score: 0.5095 - val_loss: 29.7596 - val_accuracy: 0.5882 - val_precision: 0.5883 - val_recall: 0.5874 - val_F1 Score: 0.4590\n"
     ]
    },
    {
     "name": "stderr",
     "output_type": "stream",
     "text": [
      "2022-07-11 22:55:14.805438: W tensorflow/python/util/util.cc:348] Sets are not currently considered sequences, but this may change in the future, so consider avoiding using them.\n"
     ]
    },
    {
     "name": "stdout",
     "output_type": "stream",
     "text": [
      "Epoch 2/15\n",
      "2510/2510 [==============================] - 98s 39ms/step - loss: 18.1785 - accuracy: 0.6310 - precision: 0.6311 - recall: 0.6310 - F1 Score: 0.6238 - val_loss: 16.9290 - val_accuracy: 0.6383 - val_precision: 0.6394 - val_recall: 0.6383 - val_F1 Score: 0.5695\n",
      "Epoch 3/15\n",
      "2510/2510 [==============================] - 98s 39ms/step - loss: 21.2322 - accuracy: 0.6586 - precision: 0.6586 - recall: 0.6586 - F1 Score: 0.6565 - val_loss: 26.2147 - val_accuracy: 0.6359 - val_precision: 0.6359 - val_recall: 0.6359 - val_F1 Score: 0.6059\n",
      "Epoch 4/15\n",
      "2510/2510 [==============================] - 98s 39ms/step - loss: 22.3387 - accuracy: 0.6779 - precision: 0.6779 - recall: 0.6778 - F1 Score: 0.6836 - val_loss: 47.6618 - val_accuracy: 0.5817 - val_precision: 0.5817 - val_recall: 0.5817 - val_F1 Score: 0.5780\n",
      "Epoch 5/15\n",
      "2510/2510 [==============================] - 99s 39ms/step - loss: 21.9563 - accuracy: 0.6998 - precision: 0.6998 - recall: 0.6998 - F1 Score: 0.7114 - val_loss: 46.7894 - val_accuracy: 0.6634 - val_precision: 0.6634 - val_recall: 0.6634 - val_F1 Score: 0.6123\n",
      "Epoch 6/15\n",
      "2510/2510 [==============================] - 99s 39ms/step - loss: 24.4524 - accuracy: 0.7153 - precision: 0.7153 - recall: 0.7153 - F1 Score: 0.7281 - val_loss: 25.6460 - val_accuracy: 0.7152 - val_precision: 0.7152 - val_recall: 0.7152 - val_F1 Score: 0.6959\n",
      "Epoch 7/15\n",
      "2510/2510 [==============================] - 101s 40ms/step - loss: 26.3752 - accuracy: 0.7220 - precision: 0.7220 - recall: 0.7220 - F1 Score: 0.7377 - val_loss: 44.7182 - val_accuracy: 0.6877 - val_precision: 0.6877 - val_recall: 0.6877 - val_F1 Score: 0.6859\n",
      "Epoch 8/15\n",
      "2510/2510 [==============================] - 99s 39ms/step - loss: 24.5257 - accuracy: 0.7349 - precision: 0.7349 - recall: 0.7349 - F1 Score: 0.7542 - val_loss: 70.6162 - val_accuracy: 0.6699 - val_precision: 0.6699 - val_recall: 0.6699 - val_F1 Score: 0.6371\n",
      "Epoch 9/15\n",
      "2510/2510 [==============================] - 98s 39ms/step - loss: 26.4395 - accuracy: 0.7408 - precision: 0.7408 - recall: 0.7408 - F1 Score: 0.7617 - val_loss: 50.5084 - val_accuracy: 0.6756 - val_precision: 0.6756 - val_recall: 0.6756 - val_F1 Score: 0.6766\n",
      "Epoch 10/15\n",
      "2510/2510 [==============================] - 99s 39ms/step - loss: 26.3405 - accuracy: 0.7549 - precision: 0.7549 - recall: 0.7549 - F1 Score: 0.7778 - val_loss: 59.0651 - val_accuracy: 0.7209 - val_precision: 0.7209 - val_recall: 0.7209 - val_F1 Score: 0.6770\n",
      "Epoch 11/15\n",
      "2510/2510 [==============================] - 98s 39ms/step - loss: 28.5225 - accuracy: 0.7567 - precision: 0.7567 - recall: 0.7567 - F1 Score: 0.7818 - val_loss: 50.0502 - val_accuracy: 0.7265 - val_precision: 0.7265 - val_recall: 0.7265 - val_F1 Score: 0.6598\n",
      "Epoch 12/15\n",
      "2510/2510 [==============================] - 98s 39ms/step - loss: 27.3824 - accuracy: 0.7695 - precision: 0.7695 - recall: 0.7695 - F1 Score: 0.7960 - val_loss: 55.9016 - val_accuracy: 0.7290 - val_precision: 0.7290 - val_recall: 0.7290 - val_F1 Score: 0.6996\n",
      "Epoch 13/15\n",
      "2510/2510 [==============================] - 99s 39ms/step - loss: 31.7471 - accuracy: 0.7704 - precision: 0.7704 - recall: 0.7704 - F1 Score: 0.7929 - val_loss: 94.8008 - val_accuracy: 0.7152 - val_precision: 0.7152 - val_recall: 0.7152 - val_F1 Score: 0.6293\n",
      "Epoch 14/15\n",
      "2510/2510 [==============================] - 99s 40ms/step - loss: 29.2067 - accuracy: 0.7805 - precision: 0.7805 - recall: 0.7805 - F1 Score: 0.8060 - val_loss: 69.4550 - val_accuracy: 0.7468 - val_precision: 0.7468 - val_recall: 0.7468 - val_F1 Score: 0.7119\n",
      "Epoch 15/15\n",
      "2510/2510 [==============================] - 100s 40ms/step - loss: 30.5635 - accuracy: 0.7776 - precision: 0.7776 - recall: 0.7776 - F1 Score: 0.8029 - val_loss: 53.6054 - val_accuracy: 0.7492 - val_precision: 0.7492 - val_recall: 0.7492 - val_F1 Score: 0.7322\n"
     ]
    }
   ],
   "source": [
    "history = model.fit(train_dataset, validation_data=validation_dataset, epochs=15, callbacks=model_checkpoint_callback)"
   ]
  },
  {
   "cell_type": "markdown",
   "id": "10f3b9c8",
   "metadata": {
    "papermill": {
     "duration": 1.268273,
     "end_time": "2022-07-11T23:23:36.328951",
     "exception": false,
     "start_time": "2022-07-11T23:23:35.060678",
     "status": "completed"
    },
    "tags": []
   },
   "source": [
    "# 4.Fine Tunning"
   ]
  },
  {
   "cell_type": "code",
   "execution_count": 12,
   "id": "16c5220a",
   "metadata": {
    "execution": {
     "iopub.execute_input": "2022-07-11T23:23:38.828318Z",
     "iopub.status.busy": "2022-07-11T23:23:38.827625Z",
     "iopub.status.idle": "2022-07-11T23:23:38.839736Z",
     "shell.execute_reply": "2022-07-11T23:23:38.838569Z"
    },
    "papermill": {
     "duration": 1.2395,
     "end_time": "2022-07-11T23:23:38.844539",
     "exception": false,
     "start_time": "2022-07-11T23:23:37.605039",
     "status": "completed"
    },
    "tags": []
   },
   "outputs": [
    {
     "name": "stdout",
     "output_type": "stream",
     "text": [
      "Model: \"Transfer_Learning_by_vgg\"\n",
      "__________________________________________________________________________________________________\n",
      "Layer (type)                    Output Shape         Param #     Connected to                     \n",
      "==================================================================================================\n",
      "Input (InputLayer)              [(None, 224, 224, 3) 0                                            \n",
      "__________________________________________________________________________________________________\n",
      "vgg19 (Functional)              (None, 7, 7, 512)    20024384    Input[0][0]                      \n",
      "__________________________________________________________________________________________________\n",
      "conv2d_1 (Conv2D)               (None, 7, 7, 128)    65664       vgg19[0][0]                      \n",
      "__________________________________________________________________________________________________\n",
      "conv2d_3 (Conv2D)               (None, 7, 7, 128)    65664       vgg19[0][0]                      \n",
      "__________________________________________________________________________________________________\n",
      "conv2d (Conv2D)                 (None, 7, 7, 128)    65664       vgg19[0][0]                      \n",
      "__________________________________________________________________________________________________\n",
      "conv2d_2 (Conv2D)               (None, 7, 7, 64)     73792       conv2d_1[0][0]                   \n",
      "__________________________________________________________________________________________________\n",
      "conv2d_4 (Conv2D)               (None, 7, 7, 32)     102432      conv2d_3[0][0]                   \n",
      "__________________________________________________________________________________________________\n",
      "batch_normalization (BatchNorma (None, 7, 7, 128)    512         conv2d[0][0]                     \n",
      "__________________________________________________________________________________________________\n",
      "batch_normalization_1 (BatchNor (None, 7, 7, 64)     256         conv2d_2[0][0]                   \n",
      "__________________________________________________________________________________________________\n",
      "batch_normalization_2 (BatchNor (None, 7, 7, 32)     128         conv2d_4[0][0]                   \n",
      "__________________________________________________________________________________________________\n",
      "max_pooling2d (MaxPooling2D)    (None, 7, 7, 512)    0           vgg19[0][0]                      \n",
      "__________________________________________________________________________________________________\n",
      "concatenate (Concatenate)       (None, 7, 7, 736)    0           batch_normalization[0][0]        \n",
      "                                                                 batch_normalization_1[0][0]      \n",
      "                                                                 batch_normalization_2[0][0]      \n",
      "                                                                 max_pooling2d[0][0]              \n",
      "__________________________________________________________________________________________________\n",
      "conv2d_5 (Conv2D)               (None, 7, 7, 64)     47168       concatenate[0][0]                \n",
      "__________________________________________________________________________________________________\n",
      "batch_normalization_3 (BatchNor (None, 7, 7, 64)     256         conv2d_5[0][0]                   \n",
      "__________________________________________________________________________________________________\n",
      "batch_normalization_4 (BatchNor (None, 7, 7, 64)     256         batch_normalization_3[0][0]      \n",
      "__________________________________________________________________________________________________\n",
      "conv2d_6 (Conv2D)               (None, 7, 7, 32)     23584       concatenate[0][0]                \n",
      "__________________________________________________________________________________________________\n",
      "conv2d_8 (Conv2D)               (None, 7, 7, 16)     11792       concatenate[0][0]                \n",
      "__________________________________________________________________________________________________\n",
      "batch_normalization_5 (BatchNor (None, 7, 7, 64)     256         batch_normalization_4[0][0]      \n",
      "__________________________________________________________________________________________________\n",
      "conv2d_7 (Conv2D)               (None, 7, 7, 32)     9248        conv2d_6[0][0]                   \n",
      "__________________________________________________________________________________________________\n",
      "conv2d_9 (Conv2D)               (None, 7, 7, 16)     6416        conv2d_8[0][0]                   \n",
      "__________________________________________________________________________________________________\n",
      "concatenate_1 (Concatenate)     (None, 7, 7, 112)    0           batch_normalization_5[0][0]      \n",
      "                                                                 conv2d_7[0][0]                   \n",
      "                                                                 conv2d_9[0][0]                   \n",
      "__________________________________________________________________________________________________\n",
      "max_pooling2d_1 (MaxPooling2D)  (None, 3, 3, 112)    0           concatenate_1[0][0]              \n",
      "__________________________________________________________________________________________________\n",
      "dropout (Dropout)               (None, 3, 3, 112)    0           max_pooling2d_1[0][0]            \n",
      "__________________________________________________________________________________________________\n",
      "Flatten (Flatten)               (None, 1008)         0           dropout[0][0]                    \n",
      "__________________________________________________________________________________________________\n",
      "Output (Dense)                  (None, 11)           11099       Flatten[0][0]                    \n",
      "==================================================================================================\n",
      "Total params: 20,508,571\n",
      "Trainable params: 20,507,739\n",
      "Non-trainable params: 832\n",
      "__________________________________________________________________________________________________\n"
     ]
    }
   ],
   "source": [
    "for layer in model.layers:\n",
    "    layer.trainable = True\n",
    "model.summary()"
   ]
  },
  {
   "cell_type": "code",
   "execution_count": 13,
   "id": "3e4b75a4",
   "metadata": {
    "execution": {
     "iopub.execute_input": "2022-07-11T23:23:41.482364Z",
     "iopub.status.busy": "2022-07-11T23:23:41.481997Z",
     "iopub.status.idle": "2022-07-11T23:23:41.506521Z",
     "shell.execute_reply": "2022-07-11T23:23:41.505591Z"
    },
    "papermill": {
     "duration": 1.320346,
     "end_time": "2022-07-11T23:23:41.508687",
     "exception": false,
     "start_time": "2022-07-11T23:23:40.188341",
     "status": "completed"
    },
    "tags": []
   },
   "outputs": [
    {
     "name": "stderr",
     "output_type": "stream",
     "text": [
      "/opt/conda/lib/python3.7/site-packages/keras/optimizer_v2/optimizer_v2.py:356: UserWarning: The `lr` argument is deprecated, use `learning_rate` instead.\n",
      "  \"The `lr` argument is deprecated, use `learning_rate` instead.\")\n"
     ]
    }
   ],
   "source": [
    "base_learning_rate = 0.00001\n",
    "checkpoint_filepath = '/kaggle/working/tmp/models/vgg_c_d_11D'\n",
    "model_checkpoint_callback = tf.keras.callbacks.ModelCheckpoint(filepath=checkpoint_filepath, save_weights_only=False, monitor='val_F1 Score')\n",
    "model.compile(optimizer=tf.keras.optimizers.Adam(lr=base_learning_rate),\n",
    "              loss=tf.keras.losses.CategoricalCrossentropy(),\n",
    "              metrics=['accuracy',\n",
    "                       tf.keras.metrics.Precision(),\n",
    "                       tf.keras.metrics.Recall(),\n",
    "                       tfa.metrics.F1Score(11, average='macro', threshold=0.5, name='F1 Score')])"
   ]
  },
  {
   "cell_type": "code",
   "execution_count": 14,
   "id": "d5878cbe",
   "metadata": {
    "execution": {
     "iopub.execute_input": "2022-07-11T23:23:44.207285Z",
     "iopub.status.busy": "2022-07-11T23:23:44.206932Z",
     "iopub.status.idle": "2022-07-12T00:05:12.553918Z",
     "shell.execute_reply": "2022-07-12T00:05:12.552946Z"
    },
    "papermill": {
     "duration": 2489.612935,
     "end_time": "2022-07-12T00:05:12.556555",
     "exception": false,
     "start_time": "2022-07-11T23:23:42.943620",
     "status": "completed"
    },
    "tags": []
   },
   "outputs": [
    {
     "name": "stdout",
     "output_type": "stream",
     "text": [
      "Epoch 1/10\n",
      "2510/2510 [==============================] - 236s 93ms/step - loss: 34.7156 - accuracy: 0.7221 - precision_1: 0.7221 - recall_1: 0.7221 - F1 Score: 0.7278 - val_loss: 46.9510 - val_accuracy: 0.6853 - val_precision_1: 0.6853 - val_recall_1: 0.6853 - val_F1 Score: 0.6746\n",
      "Epoch 2/10\n",
      "2510/2510 [==============================] - 232s 93ms/step - loss: 19.0823 - accuracy: 0.7566 - precision_1: 0.7566 - recall_1: 0.7566 - F1 Score: 0.7772 - val_loss: 27.7216 - val_accuracy: 0.7621 - val_precision_1: 0.7621 - val_recall_1: 0.7621 - val_F1 Score: 0.7350\n",
      "Epoch 3/10\n",
      "2510/2510 [==============================] - 232s 92ms/step - loss: 13.5601 - accuracy: 0.7810 - precision_1: 0.7810 - recall_1: 0.7810 - F1 Score: 0.8023 - val_loss: 18.4423 - val_accuracy: 0.7508 - val_precision_1: 0.7508 - val_recall_1: 0.7508 - val_F1 Score: 0.7511\n",
      "Epoch 4/10\n",
      "2510/2510 [==============================] - 231s 92ms/step - loss: 10.2709 - accuracy: 0.7959 - precision_1: 0.7959 - recall_1: 0.7959 - F1 Score: 0.8204 - val_loss: 12.1646 - val_accuracy: 0.7985 - val_precision_1: 0.7985 - val_recall_1: 0.7985 - val_F1 Score: 0.7818\n",
      "Epoch 5/10\n",
      "2510/2510 [==============================] - 231s 92ms/step - loss: 8.2832 - accuracy: 0.8024 - precision_1: 0.8024 - recall_1: 0.8024 - F1 Score: 0.8288 - val_loss: 14.5196 - val_accuracy: 0.7662 - val_precision_1: 0.7662 - val_recall_1: 0.7662 - val_F1 Score: 0.7438\n",
      "Epoch 6/10\n",
      "2510/2510 [==============================] - 232s 92ms/step - loss: 6.2133 - accuracy: 0.8147 - precision_1: 0.8147 - recall_1: 0.8147 - F1 Score: 0.8432 - val_loss: 12.7787 - val_accuracy: 0.7977 - val_precision_1: 0.7977 - val_recall_1: 0.7977 - val_F1 Score: 0.7872\n",
      "Epoch 7/10\n",
      "2510/2510 [==============================] - 232s 93ms/step - loss: 5.1542 - accuracy: 0.8252 - precision_1: 0.8252 - recall_1: 0.8252 - F1 Score: 0.8554 - val_loss: 12.3827 - val_accuracy: 0.7751 - val_precision_1: 0.7751 - val_recall_1: 0.7751 - val_F1 Score: 0.7691\n",
      "Epoch 8/10\n",
      "2510/2510 [==============================] - 233s 93ms/step - loss: 4.3229 - accuracy: 0.8332 - precision_1: 0.8333 - recall_1: 0.8332 - F1 Score: 0.8635 - val_loss: 10.9846 - val_accuracy: 0.7937 - val_precision_1: 0.7937 - val_recall_1: 0.7937 - val_F1 Score: 0.7744\n",
      "Epoch 9/10\n",
      "2510/2510 [==============================] - 233s 93ms/step - loss: 3.5917 - accuracy: 0.8477 - precision_1: 0.8477 - recall_1: 0.8477 - F1 Score: 0.8782 - val_loss: 10.0802 - val_accuracy: 0.8099 - val_precision_1: 0.8099 - val_recall_1: 0.8099 - val_F1 Score: 0.8065\n",
      "Epoch 10/10\n",
      "2510/2510 [==============================] - 233s 93ms/step - loss: 3.5012 - accuracy: 0.8483 - precision_1: 0.8483 - recall_1: 0.8483 - F1 Score: 0.8773 - val_loss: 10.7591 - val_accuracy: 0.8188 - val_precision_1: 0.8188 - val_recall_1: 0.8188 - val_F1 Score: 0.7972\n"
     ]
    }
   ],
   "source": [
    "history1 = model.fit(train_dataset, validation_data=validation_dataset, epochs=10, callbacks=model_checkpoint_callback)"
   ]
  },
  {
   "cell_type": "markdown",
   "id": "e0d22921",
   "metadata": {
    "papermill": {
     "duration": 2.859239,
     "end_time": "2022-07-12T00:05:18.396344",
     "exception": false,
     "start_time": "2022-07-12T00:05:15.537105",
     "status": "completed"
    },
    "tags": []
   },
   "source": [
    "# 5.Evaluation"
   ]
  },
  {
   "cell_type": "code",
   "execution_count": 15,
   "id": "f52aac28",
   "metadata": {
    "execution": {
     "iopub.execute_input": "2022-07-12T00:05:24.389105Z",
     "iopub.status.busy": "2022-07-12T00:05:24.388741Z",
     "iopub.status.idle": "2022-07-12T00:05:28.129561Z",
     "shell.execute_reply": "2022-07-12T00:05:28.128506Z"
    },
    "papermill": {
     "duration": 6.616488,
     "end_time": "2022-07-12T00:05:28.132203",
     "exception": false,
     "start_time": "2022-07-12T00:05:21.515715",
     "status": "completed"
    },
    "tags": []
   },
   "outputs": [
    {
     "data": {
      "image/png": "[encoded data removed]",
      "text/plain": [
       "<Figure size 720x1440 with 5 Axes>"
      ]
     },
     "metadata": {
      "needs_background": "light"
     },
     "output_type": "display_data"
    }
   ],
   "source": [
    "acc = [0.] + history1.history['accuracy']\n",
    "val_acc = [0.] + history1.history['val_accuracy']\n",
    "\n",
    "loss = history1.history['loss']\n",
    "val_loss = history1.history['val_loss']\n",
    "\n",
    "f1 = history1.history['F1 Score']\n",
    "f1_val = history1.history['val_F1 Score']\n",
    "\n",
    "precision = history1.history['precision_1']\n",
    "precision_val = history1.history['val_precision_1']\n",
    "\n",
    "recall = history1.history['recall_1']\n",
    "recall_val = history1.history['val_recall_1']\n",
    "\n",
    "fig = plt.figure(figsize=(10, 20))\n",
    "plt.subplot(5, 1, 1)\n",
    "plt.plot(acc, label='Training Accuracy', linewidth=3)\n",
    "plt.plot(val_acc, label='Validation Accuracy', linewidth=3)\n",
    "plt.legend(loc='lower right')\n",
    "plt.ylabel('Accuracy')\n",
    "#plt.ylim([min(plt.ylim()),1])\n",
    "plt.title('Training and Validation Accuracy')\n",
    "\n",
    "plt.subplot(5, 1, 2)\n",
    "plt.plot(loss, label='Training Loss', linewidth=3)\n",
    "plt.plot(val_loss, label='Validation Loss', linewidth=3)\n",
    "plt.legend(loc='upper right')\n",
    "plt.ylabel('Cross Entropy Loss')\n",
    "#plt.ylim([0,1.0])\n",
    "plt.title('Training and Validation Loss')\n",
    "\n",
    "plt.subplot(5, 1, 3)\n",
    "plt.plot(precision, label='Training Precision', linewidth=3)\n",
    "plt.plot(precision_val, label='Validation Precision', linewidth=3)\n",
    "plt.legend(loc='lower right')\n",
    "plt.ylabel('Precision')\n",
    "#plt.ylim([0,1.0])\n",
    "plt.title('Training and Validation Precision')\n",
    "\n",
    "plt.subplot(5, 1, 4)\n",
    "plt.plot(recall, label='Training Recall', linewidth=3)\n",
    "plt.plot(recall_val, label='Validation Recall', linewidth=3)\n",
    "plt.legend(loc='lower right')\n",
    "plt.ylabel('Recall')\n",
    "#plt.ylim([0,1.0])\n",
    "plt.title('Training and Validation Recall')\n",
    "\n",
    "\n",
    "plt.subplot(5, 1, 5)\n",
    "plt.plot(f1, label='Training F1 Score', linewidth=3)\n",
    "plt.plot(f1_val, label='Validation F1 Score', linewidth=3)\n",
    "plt.legend(loc='lower right')\n",
    "plt.ylabel('F1 Score')\n",
    "#plt.ylim([min(plt.ylim()),1])\n",
    "plt.title('Training and Validation F1 Score')\n",
    "plt.xlabel('epoch')\n",
    "plt.show()\n",
    "fig.savefig(\"plt1_vgg_c_d_11D_1.jpg\", format='jpg', dpi=600)"
   ]
  },
  {
   "cell_type": "code",
   "execution_count": 16,
   "id": "48e4c772",
   "metadata": {
    "execution": {
     "iopub.execute_input": "2022-07-12T00:05:34.670492Z",
     "iopub.status.busy": "2022-07-12T00:05:34.670137Z",
     "iopub.status.idle": "2022-07-12T00:05:58.402129Z",
     "shell.execute_reply": "2022-07-12T00:05:58.401206Z"
    },
    "papermill": {
     "duration": 27.111673,
     "end_time": "2022-07-12T00:05:58.404283",
     "exception": false,
     "start_time": "2022-07-12T00:05:31.292610",
     "status": "completed"
    },
    "tags": []
   },
   "outputs": [
    {
     "data": {
      "image/png": "[encoded data removed]",
      "text/plain": [
       "<Figure size 720x720 with 2 Axes>"
      ]
     },
     "metadata": {
      "needs_background": "light"
     },
     "output_type": "display_data"
    }
   ],
   "source": [
    "test_preds = []\n",
    "test_labels = []\n",
    "columns = ['Dry AMD', 'Glaucoma', \"Normal Fundus\", \"Wet AMD\", \"Mild DR\", \"Moderate DR\", \"Severe DR\", \"Proliferate DR\", \"Cataract\", \"Hypertensive Retinopathy\", \"Pathological Myopia\"]\n",
    "for images, labels in test_dataset.take(-1):\n",
    "  array_labels = np.array(labels)\n",
    "  array_labels = np.where(array_labels == 1)[1]\n",
    "  for ii in range(array_labels.shape[0]):\n",
    "    test_labels.append(array_labels[ii])\n",
    "    test_preds.append(np.argmax(np.array(model.predict(tf.expand_dims(images[ii], 0)))))\n",
    "test_labels = np.array(test_labels)\n",
    "test_preds = np.array(test_preds)\n",
    "cm = np.zeros((11, 11))\n",
    "for i in range(433):\n",
    "  cm[test_labels[i]][test_preds[i]] = cm[test_labels[i]][test_preds[i]] + 1\n",
    "plt.figure(figsize=(10, 10))\n",
    "cf_matrix = pd.DataFrame(cm, columns=columns, index=columns)\n",
    "sns.heatmap(cf_matrix, annot=True, cmap=\"Blues\")\n",
    "plt.savefig(\"cm_vgg_c_d_11D.jpg\", format='jpg', dpi=600)"
   ]
  },
  {
   "cell_type": "code",
   "execution_count": 17,
   "id": "1137c118",
   "metadata": {
    "execution": {
     "iopub.execute_input": "2022-07-12T00:06:04.373332Z",
     "iopub.status.busy": "2022-07-12T00:06:04.372970Z",
     "iopub.status.idle": "2022-07-12T00:06:17.393582Z",
     "shell.execute_reply": "2022-07-12T00:06:17.392431Z"
    },
    "papermill": {
     "duration": 16.162569,
     "end_time": "2022-07-12T00:06:17.395947",
     "exception": false,
     "start_time": "2022-07-12T00:06:01.233378",
     "status": "completed"
    },
    "tags": []
   },
   "outputs": [
    {
     "name": "stdout",
     "output_type": "stream",
     "text": [
      "  adding: tmp/models/vgg_c_d_11D/ (stored 0%)\r\n",
      "  adding: tmp/models/vgg_c_d_11D/variables/ (stored 0%)\r\n",
      "  adding: tmp/models/vgg_c_d_11D/variables/variables.index (deflated 77%)\r\n",
      "  adding: tmp/models/vgg_c_d_11D/variables/variables.data-00000-of-00001 (deflated 7%)\r\n",
      "  adding: tmp/models/vgg_c_d_11D/saved_model.pb (deflated 90%)\r\n",
      "  adding: tmp/models/vgg_c_d_11D/keras_metadata.pb (deflated 95%)\r\n",
      "  adding: tmp/models/vgg_c_d_11D/assets/ (stored 0%)\r\n"
     ]
    }
   ],
   "source": [
    "!zip -r densenet_c_d_11D.zip \"./tmp/models/vgg_c_d_11D\""
   ]
  },
  {
   "cell_type": "code",
   "execution_count": 18,
   "id": "51bb9d60",
   "metadata": {
    "execution": {
     "iopub.execute_input": "2022-07-12T00:06:23.087652Z",
     "iopub.status.busy": "2022-07-12T00:06:23.087234Z",
     "iopub.status.idle": "2022-07-12T00:06:23.110453Z",
     "shell.execute_reply": "2022-07-12T00:06:23.109447Z"
    },
    "papermill": {
     "duration": 2.861734,
     "end_time": "2022-07-12T00:06:23.112499",
     "exception": false,
     "start_time": "2022-07-12T00:06:20.250765",
     "status": "completed"
    },
    "tags": []
   },
   "outputs": [],
   "source": [
    "from pathlib import Path\n",
    "cr = sklearn.metrics.classification_report(test_labels, test_preds, target_names=columns, output_dict=True)\n",
    "filepath = Path('cr_vgg_c_d_11D.csv')\n",
    "pd.DataFrame(cr).transpose().to_csv(filepath)"
   ]
  },
  {
   "cell_type": "code",
   "execution_count": null,
   "id": "dec56e1a",
   "metadata": {
    "papermill": {
     "duration": 2.843569,
     "end_time": "2022-07-12T00:06:29.086933",
     "exception": false,
     "start_time": "2022-07-12T00:06:26.243364",
     "status": "completed"
    },
    "tags": []
   },
   "outputs": [],
   "source": []
  }
 ],
 "metadata": {
  "kernelspec": {
   "display_name": "Python 3",
   "language": "python",
   "name": "python3"
  },
  "language_info": {
   "codemirror_mode": {
    "name": "ipython",
    "version": 3
   },
   "file_extension": ".py",
   "mimetype": "text/x-python",
   "name": "python",
   "nbconvert_exporter": "python",
   "pygments_lexer": "ipython3",
   "version": "3.7.12"
  },
  "papermill": {
   "default_parameters": {},
   "duration": 4453.352745,
   "end_time": "2022-07-12T00:06:35.532444",
   "environment_variables": {},
   "exception": null,
   "input_path": "__notebook__.ipynb",
   "output_path": "__notebook__.ipynb",
   "parameters": {},
   "start_time": "2022-07-11T22:52:22.179699",
   "version": "2.3.4"
  }
 },
 "nbformat": 4,
 "nbformat_minor": 5
}
